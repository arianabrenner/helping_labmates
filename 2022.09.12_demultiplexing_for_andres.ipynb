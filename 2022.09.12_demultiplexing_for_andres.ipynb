{
 "cells": [
  {
   "cell_type": "code",
   "execution_count": 1,
   "metadata": {},
   "outputs": [],
   "source": [
    "import os\n",
    "# import seaborn as sns\n",
    "import numpy as np\n",
    "import matplotlib.pyplot as plt\n",
    "import random\n",
    "import pandas as pd\n",
    "from setuptools import setup\n",
    "from setuptools.command.install import install\n",
    "from IPython.display import Markdown as md\n",
    "from Bio import SeqIO\n",
    "# from scipy import stats\n",
    "import csv\n",
    "from itertools import product"
   ]
  },
  {
   "cell_type": "markdown",
   "metadata": {},
   "source": [
    "# Global Variables"
   ]
  },
  {
   "cell_type": "code",
   "execution_count": 2,
   "metadata": {},
   "outputs": [],
   "source": [
    "# data_fp ='/ru-auth/local/home/abrenner/myscratch/helping_labmates/demultiplexing/'\n",
    "fp = '/lustre/fs4/home/amansisido/scratch/RICC-Y/SSRP-Seq-2/fastq_19bp/Attempt1_BLC2fastq/'\n",
    "# fastq_to_split = '/read1/Undetermined_S0_R1_001.fastq'\n",
    "# fastq_to_split = ' Undetermined_S0_R2_001.fastq'"
   ]
  },
  {
   "cell_type": "markdown",
   "metadata": {},
   "source": [
    "# Get barcodes"
   ]
  },
  {
   "cell_type": "code",
   "execution_count": 3,
   "metadata": {},
   "outputs": [],
   "source": [
    "# df = pd.read_csv(data_fp+'umi_demultiplex.csv')"
   ]
  },
  {
   "cell_type": "code",
   "execution_count": 4,
   "metadata": {},
   "outputs": [],
   "source": [
    "# barcode_combos_pre = (list(product(df['start_barcode'], df['end_barcode'])))"
   ]
  },
  {
   "cell_type": "code",
   "execution_count": 5,
   "metadata": {},
   "outputs": [],
   "source": [
    "# barcode_combos = [barcode_combos_pre[i] + ('combo'+str(i)+'.fastq',) for i in range(0,len(barcode_combos_pre))]"
   ]
  },
  {
   "cell_type": "code",
   "execution_count": 6,
   "metadata": {},
   "outputs": [],
   "source": [
    "# len(barcode_combos)"
   ]
  },
  {
   "cell_type": "markdown",
   "metadata": {},
   "source": [
    "# Read in file with names"
   ]
  },
  {
   "cell_type": "code",
   "execution_count": 7,
   "metadata": {},
   "outputs": [],
   "source": [
    "path_to_barcodes = '/ru-auth/local/home/abrenner/myscratch/helping_labmates/demultiplexing/'\n",
    "df = pd.read_csv(path_to_barcodes+'umi_demultiplex_w_names.csv')\n",
    "barcode_combos = list(df.itertuples(index=False, name=None))\n",
    "# barcode_combos = [str(barcode_combos_pre[i][2]) + ('.fastq',) for i in range(0,len(barcode_combos_pre))]"
   ]
  },
  {
   "cell_type": "code",
   "execution_count": 8,
   "metadata": {},
   "outputs": [
    {
     "data": {
      "text/plain": [
       "[('TTACCGACNNNNNNNNNNN', 'CGTATTCG', '1_5X_HBV_31U.fastq'),\n",
       " ('TCGTCTGANNNNNNNNNNN', 'TCAAGGAC', '1_5X_HBV_23U.fastq'),\n",
       " ('TTCCAGGTNNNNNNNNNNN', 'AAGCACTG', '1_5X_HBV_18U.fastq'),\n",
       " ('TACGGTCTNNNNNNNNNNN', 'GCAATGGA', '1_5X_HBV_13U.fastq'),\n",
       " ('AAGACCGTNNNNNNNNNNN', 'CAATCGAC', '1_7X_HBV_31U.fastq'),\n",
       " ('CAGGTTCANNNNNNNNNNN', 'GGCGTTAT', '1_7X_HBV_23U.fastq'),\n",
       " ('TAGGAGCTNNNNNNNNNNN', 'GTTAAGGC', '1_7X_HBV_18U.fastq'),\n",
       " ('TACTCCAGNNNNNNNNNNN', 'CCTATACC', '1_7X_HBV_13U.fastq'),\n",
       " ('AGTGACCTNNNNNNNNNNN', 'CTCCTAGA', '1_9X_HBV_31U.fastq'),\n",
       " ('AGCCTATCNNNNNNNNNNN', 'GTTACGCA', '1_9X_HBV_23U.fastq'),\n",
       " ('TCATCTCCNNNNNNNNNNN', 'CTAGCAAG', '1_9X_HBV_18U.fastq'),\n",
       " ('CCAGTATCNNNNNNNNNNN', 'ATCTCGCT', '1_9X_HBV_13U.fastq'),\n",
       " ('TTGCGAGANNNNNNNNNNN', 'GTGCCATA', '0X_HBV_23U.fastq'),\n",
       " ('GAACGAAGNNNNNNNNNNN', 'GGTGATTC', '0X_HBV_18U.fastq'),\n",
       " ('CGAATTGCNNNNNNNNNNN', 'CACCTTAC', '0X_HBV_13U.fastq'),\n",
       " ('GGAAGAGANNNNNNNNNNN', 'TTCTCTCG', '0X_HBV_10U.fastq'),\n",
       " ('TCGGATTCNNNNNNNNNNN', 'TAGTTGCG', 'HBV_0hr_250U_MNase.fastq'),\n",
       " ('CTGTACCANNNNNNNNNNN', 'AGTCTGTG', 'HBV_0hr_500U_MNase.fastq'),\n",
       " ('GAGAGTACNNNNNNNNNNN', 'TGCTTCCA', 'HBV_0hr_1000U_MNase.fastq'),\n",
       " ('TCTACGCANNNNNNNNNNN', 'GGCTATTG', 'HBV_0hr_2000U_MNase.fastq'),\n",
       " ('GCAATTCCNNNNNNNNNNN', 'TGTTCGAG', 'HBV_4hr_250U_MNase.fastq'),\n",
       " ('CTCAGAAGNNNNNNNNNNN', 'AACTTGCC', 'HBV_4hr_500U_MNase.fastq'),\n",
       " ('GTCCTAAGNNNNNNNNNNN', 'TGGTAGCT', 'HBV_4hr_1000U_MNase.fastq'),\n",
       " ('GCGTTAGANNNNNNNNNNN', 'GTATGCTG', 'HBV_4hr_2000U_MNase.fastq'),\n",
       " ('CAAGGTACNNNNNNNNNNN', 'GAGATACG', 'HBV_24hr_250U_MNase.fastq'),\n",
       " ('AGACCTTGNNNNNNNNNNN', 'GCACGTAA', 'HBV_24hr_500U_MNase.fastq'),\n",
       " ('GTCGTTACNNNNNNNNNNN', 'GCTTAGCT', 'HBV_24hr_1000U_MNase.fastq'),\n",
       " ('GTAACCGANNNNNNNNNNN', 'GGTGTCTT', 'HBV_24hr_2000U_MNase.fastq')]"
      ]
     },
     "execution_count": 8,
     "metadata": {},
     "output_type": "execute_result"
    }
   ],
   "source": [
    "barcode_combos"
   ]
  },
  {
   "cell_type": "markdown",
   "metadata": {},
   "source": [
    "# Read in FASTQ and save reads in the correct file"
   ]
  },
  {
   "cell_type": "code",
   "execution_count": 11,
   "metadata": {},
   "outputs": [
    {
     "name": "stdout",
     "output_type": "stream",
     "text": [
      "1\n"
     ]
    },
    {
     "ename": "KeyboardInterrupt",
     "evalue": "",
     "output_type": "error",
     "traceback": [
      "\u001b[0;31m---------------------------------------------------------------------------\u001b[0m",
      "\u001b[0;31mKeyboardInterrupt\u001b[0m                         Traceback (most recent call last)",
      "\u001b[0;32m<ipython-input-11-b314fbad6ff6>\u001b[0m in \u001b[0;36m<module>\u001b[0;34m\u001b[0m\n\u001b[1;32m     30\u001b[0m                     \u001b[0msequences\u001b[0m \u001b[0;34m=\u001b[0m \u001b[0;34m[\u001b[0m\u001b[0mi\u001b[0m \u001b[0;32mfor\u001b[0m \u001b[0mi\u001b[0m \u001b[0;32min\u001b[0m \u001b[0mSeqIO\u001b[0m\u001b[0;34m.\u001b[0m\u001b[0mparse\u001b[0m\u001b[0;34m(\u001b[0m\u001b[0mdata_fp\u001b[0m \u001b[0;34m+\u001b[0m \u001b[0mcombo\u001b[0m\u001b[0;34m[\u001b[0m\u001b[0;36m2\u001b[0m\u001b[0;34m]\u001b[0m\u001b[0;34m,\u001b[0m \u001b[0;34m\"\"\"fastq\"\"\"\u001b[0m\u001b[0;34m)\u001b[0m\u001b[0;34m]\u001b[0m\u001b[0;34m\u001b[0m\u001b[0;34m\u001b[0m\u001b[0m\n\u001b[1;32m     31\u001b[0m                     \u001b[0msequences\u001b[0m\u001b[0;34m.\u001b[0m\u001b[0mappend\u001b[0m\u001b[0;34m(\u001b[0m\u001b[0mseq_record\u001b[0m\u001b[0;34m)\u001b[0m\u001b[0;34m\u001b[0m\u001b[0;34m\u001b[0m\u001b[0m\n\u001b[0;32m---> 32\u001b[0;31m                     \u001b[0mSeqIO\u001b[0m\u001b[0;34m.\u001b[0m\u001b[0mwrite\u001b[0m\u001b[0;34m(\u001b[0m\u001b[0msequences\u001b[0m\u001b[0;34m,\u001b[0m \u001b[0mdata_fp\u001b[0m \u001b[0;34m+\u001b[0m \u001b[0mcombo\u001b[0m\u001b[0;34m[\u001b[0m\u001b[0;36m2\u001b[0m\u001b[0;34m]\u001b[0m\u001b[0;34m,\u001b[0m \u001b[0;34m\"fastq\"\u001b[0m\u001b[0;34m)\u001b[0m\u001b[0;34m\u001b[0m\u001b[0;34m\u001b[0m\u001b[0m\n\u001b[0m\u001b[1;32m     33\u001b[0m     \u001b[0;31m#             outfile.close()\u001b[0m\u001b[0;34m\u001b[0m\u001b[0;34m\u001b[0m\u001b[0;34m\u001b[0m\u001b[0m\n\u001b[1;32m     34\u001b[0m     \u001b[0mprint\u001b[0m\u001b[0;34m(\u001b[0m\u001b[0mcounter\u001b[0m\u001b[0;34m)\u001b[0m\u001b[0;34m\u001b[0m\u001b[0;34m\u001b[0m\u001b[0m\n",
      "\u001b[0;32m/ru-auth/local/home/risc_soft/miniconda3/envs/nanopore2/lib/python3.7/site-packages/Bio/SeqIO/__init__.py\u001b[0m in \u001b[0;36mwrite\u001b[0;34m(sequences, handle, format)\u001b[0m\n\u001b[1;32m    523\u001b[0m         \u001b[0;32mwith\u001b[0m \u001b[0mas_handle\u001b[0m\u001b[0;34m(\u001b[0m\u001b[0mhandle\u001b[0m\u001b[0;34m,\u001b[0m \u001b[0;34m\"w\"\u001b[0m\u001b[0;34m)\u001b[0m \u001b[0;32mas\u001b[0m \u001b[0mfp\u001b[0m\u001b[0;34m:\u001b[0m\u001b[0;34m\u001b[0m\u001b[0;34m\u001b[0m\u001b[0m\n\u001b[1;32m    524\u001b[0m             \u001b[0;32mfor\u001b[0m \u001b[0mrecord\u001b[0m \u001b[0;32min\u001b[0m \u001b[0msequences\u001b[0m\u001b[0;34m:\u001b[0m\u001b[0;34m\u001b[0m\u001b[0;34m\u001b[0m\u001b[0m\n\u001b[0;32m--> 525\u001b[0;31m                 \u001b[0mfp\u001b[0m\u001b[0;34m.\u001b[0m\u001b[0mwrite\u001b[0m\u001b[0;34m(\u001b[0m\u001b[0mformat_function\u001b[0m\u001b[0;34m(\u001b[0m\u001b[0mrecord\u001b[0m\u001b[0;34m)\u001b[0m\u001b[0;34m)\u001b[0m\u001b[0;34m\u001b[0m\u001b[0;34m\u001b[0m\u001b[0m\n\u001b[0m\u001b[1;32m    526\u001b[0m                 \u001b[0mcount\u001b[0m \u001b[0;34m+=\u001b[0m \u001b[0;36m1\u001b[0m\u001b[0;34m\u001b[0m\u001b[0;34m\u001b[0m\u001b[0m\n\u001b[1;32m    527\u001b[0m         \u001b[0;32mreturn\u001b[0m \u001b[0mcount\u001b[0m\u001b[0;34m\u001b[0m\u001b[0;34m\u001b[0m\u001b[0m\n",
      "\u001b[0;32m/ru-auth/local/home/risc_soft/miniconda3/envs/nanopore2/lib/python3.7/site-packages/Bio/SeqIO/QualityIO.py\u001b[0m in \u001b[0;36mas_fastq\u001b[0;34m(record)\u001b[0m\n\u001b[1;32m   1531\u001b[0m     \u001b[0;32mand\u001b[0m \u001b[0munder\u001b[0m \u001b[0mthe\u001b[0m \u001b[0mformat\u001b[0m \u001b[0malias\u001b[0m \u001b[0;34m\"fastq-sanger\"\u001b[0m \u001b[0;32mas\u001b[0m \u001b[0mwell\u001b[0m\u001b[0;34m.\u001b[0m\u001b[0;34m\u001b[0m\u001b[0;34m\u001b[0m\u001b[0m\n\u001b[1;32m   1532\u001b[0m     \"\"\"\n\u001b[0;32m-> 1533\u001b[0;31m     \u001b[0mseq_str\u001b[0m \u001b[0;34m=\u001b[0m \u001b[0m_get_seq_string\u001b[0m\u001b[0;34m(\u001b[0m\u001b[0mrecord\u001b[0m\u001b[0;34m)\u001b[0m\u001b[0;34m\u001b[0m\u001b[0;34m\u001b[0m\u001b[0m\n\u001b[0m\u001b[1;32m   1534\u001b[0m     \u001b[0mqualities_str\u001b[0m \u001b[0;34m=\u001b[0m \u001b[0m_get_sanger_quality_str\u001b[0m\u001b[0;34m(\u001b[0m\u001b[0mrecord\u001b[0m\u001b[0;34m)\u001b[0m\u001b[0;34m\u001b[0m\u001b[0;34m\u001b[0m\u001b[0m\n\u001b[1;32m   1535\u001b[0m     \u001b[0;32mif\u001b[0m \u001b[0mlen\u001b[0m\u001b[0;34m(\u001b[0m\u001b[0mqualities_str\u001b[0m\u001b[0;34m)\u001b[0m \u001b[0;34m!=\u001b[0m \u001b[0mlen\u001b[0m\u001b[0;34m(\u001b[0m\u001b[0mseq_str\u001b[0m\u001b[0;34m)\u001b[0m\u001b[0;34m:\u001b[0m\u001b[0;34m\u001b[0m\u001b[0;34m\u001b[0m\u001b[0m\n",
      "\u001b[0;32m/ru-auth/local/home/risc_soft/miniconda3/envs/nanopore2/lib/python3.7/site-packages/Bio/SeqIO/Interfaces.py\u001b[0m in \u001b[0;36m_get_seq_string\u001b[0;34m(record)\u001b[0m\n\u001b[1;32m     99\u001b[0m     \u001b[0;32melif\u001b[0m \u001b[0;32mnot\u001b[0m \u001b[0misinstance\u001b[0m\u001b[0;34m(\u001b[0m\u001b[0mrecord\u001b[0m\u001b[0;34m.\u001b[0m\u001b[0mseq\u001b[0m\u001b[0;34m,\u001b[0m \u001b[0;34m(\u001b[0m\u001b[0mSeq\u001b[0m\u001b[0;34m,\u001b[0m \u001b[0mMutableSeq\u001b[0m\u001b[0;34m)\u001b[0m\u001b[0;34m)\u001b[0m\u001b[0;34m:\u001b[0m\u001b[0;34m\u001b[0m\u001b[0;34m\u001b[0m\u001b[0m\n\u001b[1;32m    100\u001b[0m         \u001b[0;32mraise\u001b[0m \u001b[0mTypeError\u001b[0m\u001b[0;34m(\u001b[0m\u001b[0;34m\"SeqRecord (id=%s) has an invalid sequence.\"\u001b[0m \u001b[0;34m%\u001b[0m \u001b[0mrecord\u001b[0m\u001b[0;34m.\u001b[0m\u001b[0mid\u001b[0m\u001b[0;34m)\u001b[0m\u001b[0;34m\u001b[0m\u001b[0;34m\u001b[0m\u001b[0m\n\u001b[0;32m--> 101\u001b[0;31m     \u001b[0;32mreturn\u001b[0m \u001b[0mstr\u001b[0m\u001b[0;34m(\u001b[0m\u001b[0mrecord\u001b[0m\u001b[0;34m.\u001b[0m\u001b[0mseq\u001b[0m\u001b[0;34m)\u001b[0m\u001b[0;34m\u001b[0m\u001b[0;34m\u001b[0m\u001b[0m\n\u001b[0m\u001b[1;32m    102\u001b[0m \u001b[0;34m\u001b[0m\u001b[0m\n\u001b[1;32m    103\u001b[0m \u001b[0;34m\u001b[0m\u001b[0m\n",
      "\u001b[0;32m/ru-auth/local/home/risc_soft/miniconda3/envs/nanopore2/lib/python3.7/site-packages/Bio/Seq.py\u001b[0m in \u001b[0;36m__str__\u001b[0;34m(self)\u001b[0m\n\u001b[1;32m    132\u001b[0m             \u001b[0;32mreturn\u001b[0m \u001b[0;34mf\"{self.__class__.__name__}({self._data!r}{a!s})\"\u001b[0m\u001b[0;34m\u001b[0m\u001b[0;34m\u001b[0m\u001b[0m\n\u001b[1;32m    133\u001b[0m \u001b[0;34m\u001b[0m\u001b[0m\n\u001b[0;32m--> 134\u001b[0;31m     \u001b[0;32mdef\u001b[0m \u001b[0m__str__\u001b[0m\u001b[0;34m(\u001b[0m\u001b[0mself\u001b[0m\u001b[0;34m)\u001b[0m\u001b[0;34m:\u001b[0m\u001b[0;34m\u001b[0m\u001b[0;34m\u001b[0m\u001b[0m\n\u001b[0m\u001b[1;32m    135\u001b[0m         \"\"\"Return the full sequence as a python string, use str(my_seq).\n\u001b[1;32m    136\u001b[0m \u001b[0;34m\u001b[0m\u001b[0m\n",
      "\u001b[0;31mKeyboardInterrupt\u001b[0m: "
     ]
    }
   ],
   "source": [
    "counter = 0\n",
    "for read1v2 in range(1,3):# Delete existing fastqs to ensure you do not write into existing files\n",
    "    print(read1v2)\n",
    "    fastq_to_split = 'Undetermined_S0_R'+str(read1v2)+'_001.fastq'\n",
    "    data_fp = '/ru-auth/local/home/abrenner/myscratch/helping_labmates/demultiplexing/read'+str(read1v2)+'/'\n",
    "    for combo in barcode_combos:\n",
    "    #     print(data_fp + combo[1])\n",
    "        if not os.path.isfile(data_fp + combo[2]):\n",
    "            continue\n",
    "        os.remove(data_fp + combo[2]) \n",
    "\n",
    "\n",
    "    # Iterate through fastq of interest\n",
    "    for seq_record in SeqIO.parse(fp+fastq_to_split, \"\"\"fastq\"\"\"):\n",
    "        counter = counter + 1\n",
    "        # Grab the string of interest from the description\n",
    "        desc_string = seq_record.description[-28:]\n",
    "        # Iterate through all combos and evaluate in that combo matches the seq_record\n",
    "        for combo in barcode_combos:\n",
    "            # Assess start barcode \n",
    "            criteria1 = combo[0][:8] == desc_string[:8]\n",
    "            # Assess end barcode\n",
    "            criteria2= combo[1]== desc_string[-8:]\n",
    "            if criteria1 & criteria2:\n",
    "    #           # If the file does not exist yet, just save the seq_record to a new file with that name\n",
    "                if not os.path.isfile(data_fp + combo[2]):\n",
    "                    SeqIO.write(seq_record, data_fp + combo[2], \"fastq\")\n",
    "                # If the files does exist, read it in and add onto it\n",
    "                else:\n",
    "                    sequences = [i for i in SeqIO.parse(data_fp + combo[2], \"\"\"fastq\"\"\")]\n",
    "                    sequences.append(seq_record)\n",
    "                    SeqIO.write(sequences, data_fp + combo[2], \"fastq\")\n",
    "    #             outfile.close()\n",
    "    print(counter)"
   ]
  },
  {
   "cell_type": "markdown",
   "metadata": {},
   "source": [
    "You can run this in terminal to see how many lines per fastq"
   ]
  },
  {
   "cell_type": "raw",
   "metadata": {},
   "source": [
    "total=0; find . -type f -name \"*.fastq\" | while read FILE; do count=$(grep -c ^ < \"$FILE\"); echo \"$FILE has $count lines\"; let total=total+count; done; echo \"the number is $total\""
   ]
  }
 ],
 "metadata": {
  "kernelspec": {
   "display_name": "Python 3 (ipykernel)",
   "language": "python",
   "name": "python3"
  },
  "language_info": {
   "codemirror_mode": {
    "name": "ipython",
    "version": 3
   },
   "file_extension": ".py",
   "mimetype": "text/x-python",
   "name": "python",
   "nbconvert_exporter": "python",
   "pygments_lexer": "ipython3",
   "version": "3.8.13"
  }
 },
 "nbformat": 4,
 "nbformat_minor": 4
}
